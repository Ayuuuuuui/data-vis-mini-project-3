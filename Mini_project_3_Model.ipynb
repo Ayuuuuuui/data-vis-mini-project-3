{
  "cells": [
    {
      "cell_type": "markdown",
      "metadata": {},
      "source": [
        "## Import Model"
      ]
    },
    {
      "cell_type": "code",
      "execution_count": 7,
      "metadata": {
        "colab": {
          "base_uri": "https://localhost:8080/"
        },
        "id": "nCkVJghkTbJg",
        "outputId": "4b535e8f-57f1-499c-e825-181eb3c0ae9e"
      },
      "outputs": [],
      "source": [
        "# !gdown 1jwJqh3CA6Grcykoh-AA8LlUfyamdFuty"
      ]
    },
    {
      "cell_type": "code",
      "execution_count": 1,
      "metadata": {
        "colab": {
          "base_uri": "https://localhost:8080/"
        },
        "id": "pbYg_BQyTaX8",
        "outputId": "2cd3dd1b-b3e8-476d-87db-1eb28f42a6db"
      },
      "outputs": [],
      "source": [
        "# !pip install sklearn_crfsuite\n",
        "import joblib\n",
        "import pandas as pd\n",
        "model = joblib.load(\"model.joblib\")"
      ]
    },
    {
      "cell_type": "code",
      "execution_count": null,
      "metadata": {},
      "outputs": [],
      "source": []
    },
    {
      "cell_type": "code",
      "execution_count": 9,
      "metadata": {
        "id": "buVG-3d8TePG"
      },
      "outputs": [],
      "source": [
        "stopwords = [\"ผู้\", \"ที่\", \"ซึ่ง\", \"อัน\"]\n",
        "\n",
        "def tokens_to_features(tokens, i):\n",
        "  word = tokens[i]\n",
        "\n",
        "  features = {\n",
        "    \"bias\": 1.0,\n",
        "    \"word.word\": word,\n",
        "    \"word[:3]\": word[:3],\n",
        "    \"word.isspace()\": word.isspace(),\n",
        "    \"word.is_stopword()\": word in stopwords,\n",
        "    \"word.isdigit()\": word.isdigit(),\n",
        "    \"word.islen5\": word.isdigit() and len(word) == 5\n",
        "  }\n",
        "\n",
        "  if i > 0:\n",
        "    prevword = tokens[i - 1]\n",
        "    features.update({\n",
        "      \"-1.word.prevword\": prevword,\n",
        "      \"-1.word.isspace()\": prevword.isspace(),\n",
        "      \"-1.word.is_stopword()\": prevword in stopwords,\n",
        "      \"-1.word.isdigit()\": prevword.isdigit(),\n",
        "    })\n",
        "  else:\n",
        "    features[\"BOS\"] = True\n",
        "\n",
        "  if i < len(tokens) - 1:\n",
        "    nextword = tokens[i + 1]\n",
        "    features.update({\n",
        "      \"+1.word.nextword\": nextword,\n",
        "      \"+1.word.isspace()\": nextword.isspace(),\n",
        "      \"+1.word.is_stopword()\": nextword in stopwords,\n",
        "      \"+1.word.isdigit()\": nextword.isdigit(),\n",
        "    })\n",
        "  else:\n",
        "    features[\"EOS\"] = True\n",
        "\n",
        "  return features\n",
        "\n",
        "def parse(text):\n",
        "  tokens = text.split()\n",
        "  features = [tokens_to_features(tokens, i) for i in range(len(tokens))]\n",
        "  return model.predict([features])[0]"
      ]
    },
    {
      "cell_type": "code",
      "execution_count": 10,
      "metadata": {
        "colab": {
          "base_uri": "https://localhost:8080/"
        },
        "id": "kiZHL7afTk1Q",
        "outputId": "43c19150-1116-4d4f-cdd3-8110493aaac9"
      },
      "outputs": [
        {
          "data": {
            "text/plain": [
              "array(['O', 'O', 'ADDR', 'ADDR', 'ADDR', 'LOC', 'LOC', 'POST'],\n",
              "      dtype=object)"
            ]
          },
          "execution_count": 10,
          "metadata": {},
          "output_type": "execute_result"
        }
      ],
      "source": [
        "parse(\"นายสมชาย เข็มกลัด 254 ถนนพญาไท วังใหม่ ปทุมวัน กรุงเทพมหานคร 10330\")"
      ]
    },
    {
      "cell_type": "code",
      "execution_count": 11,
      "metadata": {
        "colab": {
          "base_uri": "https://localhost:8080/"
        },
        "id": "9kI4mGFpTmDO",
        "outputId": "65c8cae0-32cb-40b4-ca2d-a74ce6a05bb0"
      },
      "outputs": [
        {
          "data": {
            "text/plain": [
              "array(['ADDR', 'ADDR', 'ADDR', 'ADDR', 'ADDR', 'ADDR', 'ADDR', 'ADDR',\n",
              "       'POST'], dtype=object)"
            ]
          },
          "execution_count": 11,
          "metadata": {},
          "output_type": "execute_result"
        }
      ],
      "source": [
        "parse(\"นายมงคล 123/4 ตำบล บ้านไกล อำเภอ เมือง จังหวัด ลพบุรี 15000\")"
      ]
    },
    {
      "cell_type": "markdown",
      "metadata": {},
      "source": [
        "## Using Random from ChatGPT"
      ]
    },
    {
      "cell_type": "code",
      "execution_count": 12,
      "metadata": {},
      "outputs": [
        {
          "data": {
            "text/html": [
              "<div>\n",
              "<style scoped>\n",
              "    .dataframe tbody tr th:only-of-type {\n",
              "        vertical-align: middle;\n",
              "    }\n",
              "\n",
              "    .dataframe tbody tr th {\n",
              "        vertical-align: top;\n",
              "    }\n",
              "\n",
              "    .dataframe thead th {\n",
              "        text-align: right;\n",
              "    }\n",
              "</style>\n",
              "<table border=\"1\" class=\"dataframe\">\n",
              "  <thead>\n",
              "    <tr style=\"text-align: right;\">\n",
              "      <th></th>\n",
              "      <th>Address</th>\n",
              "      <th>Tags</th>\n",
              "    </tr>\n",
              "  </thead>\n",
              "  <tbody>\n",
              "    <tr>\n",
              "      <th>0</th>\n",
              "      <td>นายอรุณ สุขใจ 10540 ปากเกร็ด 728/85 บางพลี อ่า...</td>\n",
              "      <td>[O, O, POST, LOC, ADDR, LOC, LOC]</td>\n",
              "    </tr>\n",
              "    <tr>\n",
              "      <th>1</th>\n",
              "      <td>นายอัศวิน ชนะพงศ์ บางบัวทอง นนทบุรี 10210 ปากเ...</td>\n",
              "      <td>[O, O, LOC, LOC, POST, LOC, ADDR]</td>\n",
              "    </tr>\n",
              "    <tr>\n",
              "      <th>2</th>\n",
              "      <td>นายวิเชียร ชนะพงศ์ 978/77 10540 ปทุมธานี สาทร ...</td>\n",
              "      <td>[O, O, ADDR, POST, LOC, LOC, LOC]</td>\n",
              "    </tr>\n",
              "    <tr>\n",
              "      <th>3</th>\n",
              "      <td>นายกิตติ เจริญสุข สวนหลวง บางเขน กรุงเทพฯ 300/...</td>\n",
              "      <td>[O, O, LOC, LOC, LOC, ADDR, POST]</td>\n",
              "    </tr>\n",
              "    <tr>\n",
              "      <th>4</th>\n",
              "      <td>นายสุริยะ เจริญสุข กรุงเทพฯ บางกะปิ 10230 บางน...</td>\n",
              "      <td>[O, O, LOC, LOC, POST, LOC, ADDR]</td>\n",
              "    </tr>\n",
              "    <tr>\n",
              "      <th>...</th>\n",
              "      <td>...</td>\n",
              "      <td>...</td>\n",
              "    </tr>\n",
              "    <tr>\n",
              "      <th>95</th>\n",
              "      <td>นายประสิทธิ์ มีสุข 10270 กรุงเทพมหานคร บางกอกน...</td>\n",
              "      <td>[O, O, POST, LOC, LOC, LOC, ADDR]</td>\n",
              "    </tr>\n",
              "    <tr>\n",
              "      <th>96</th>\n",
              "      <td>นายเอกชัย มีสุข 690/31 ลาดพร้าว 10120 ชลบุรี พ...</td>\n",
              "      <td>[O, O, ADDR, LOC, POST, LOC, LOC]</td>\n",
              "    </tr>\n",
              "    <tr>\n",
              "      <th>97</th>\n",
              "      <td>นายอรุณ ทรงชัย บางซื่อ บางกะปิ กรุงเทพฯ 352/77...</td>\n",
              "      <td>[O, O, LOC, LOC, LOC, ADDR, POST]</td>\n",
              "    </tr>\n",
              "    <tr>\n",
              "      <th>98</th>\n",
              "      <td>นายสมศักดิ์ ใจบุญ 290/39 บางกอกน้อย 10230 พระโ...</td>\n",
              "      <td>[O, O, ADDR, LOC, POST, LOC, LOC]</td>\n",
              "    </tr>\n",
              "    <tr>\n",
              "      <th>99</th>\n",
              "      <td>นายกำธร ใจบุญ 447/2 10210 พญาไท สมุทรปราการ ศา...</td>\n",
              "      <td>[O, O, ADDR, POST, LOC, LOC, LOC]</td>\n",
              "    </tr>\n",
              "  </tbody>\n",
              "</table>\n",
              "<p>100 rows × 2 columns</p>\n",
              "</div>"
            ],
            "text/plain": [
              "                                              Address  \\\n",
              "0   นายอรุณ สุขใจ 10540 ปากเกร็ด 728/85 บางพลี อ่า...   \n",
              "1   นายอัศวิน ชนะพงศ์ บางบัวทอง นนทบุรี 10210 ปากเ...   \n",
              "2   นายวิเชียร ชนะพงศ์ 978/77 10540 ปทุมธานี สาทร ...   \n",
              "3   นายกิตติ เจริญสุข สวนหลวง บางเขน กรุงเทพฯ 300/...   \n",
              "4   นายสุริยะ เจริญสุข กรุงเทพฯ บางกะปิ 10230 บางน...   \n",
              "..                                                ...   \n",
              "95  นายประสิทธิ์ มีสุข 10270 กรุงเทพมหานคร บางกอกน...   \n",
              "96  นายเอกชัย มีสุข 690/31 ลาดพร้าว 10120 ชลบุรี พ...   \n",
              "97  นายอรุณ ทรงชัย บางซื่อ บางกะปิ กรุงเทพฯ 352/77...   \n",
              "98  นายสมศักดิ์ ใจบุญ 290/39 บางกอกน้อย 10230 พระโ...   \n",
              "99  นายกำธร ใจบุญ 447/2 10210 พญาไท สมุทรปราการ ศา...   \n",
              "\n",
              "                                 Tags  \n",
              "0   [O, O, POST, LOC, ADDR, LOC, LOC]  \n",
              "1   [O, O, LOC, LOC, POST, LOC, ADDR]  \n",
              "2   [O, O, ADDR, POST, LOC, LOC, LOC]  \n",
              "3   [O, O, LOC, LOC, LOC, ADDR, POST]  \n",
              "4   [O, O, LOC, LOC, POST, LOC, ADDR]  \n",
              "..                                ...  \n",
              "95  [O, O, POST, LOC, LOC, LOC, ADDR]  \n",
              "96  [O, O, ADDR, LOC, POST, LOC, LOC]  \n",
              "97  [O, O, LOC, LOC, LOC, ADDR, POST]  \n",
              "98  [O, O, ADDR, LOC, POST, LOC, LOC]  \n",
              "99  [O, O, ADDR, POST, LOC, LOC, LOC]  \n",
              "\n",
              "[100 rows x 2 columns]"
            ]
          },
          "execution_count": 12,
          "metadata": {},
          "output_type": "execute_result"
        }
      ],
      "source": [
        "import random\n",
        "import pandas as pd\n",
        "\n",
        "# Sample Thai names and surnames\n",
        "first_names = [\"สมชาย\", \"วิชัย\", \"สมศักดิ์\", \"กิตติ\", \"อัศวิน\", \"ประสิทธิ์\", \"สุริยะ\", \"ชัยวัฒน์\", \"วัฒนา\", \"เอกชัย\", \"พัฒน์พงศ์\", \"สุพจน์\", \"วิเชียร\", \"อรุณ\", \"กำธร\"]\n",
        "last_names = [\"มีสุข\", \"สวัสดี\", \"สุขใจ\", \"ใจดี\", \"ใจบุญ\", \"กิตติกูล\", \"ชนะพงศ์\", \"สุวรรณ\", \"คงเจริญ\", \"เพิ่มพูน\", \"เจริญสุข\", \"ชัยรัตน์\", \"ทรงชัย\", \"สุทธิชัย\", \"รุ่งเรือง\"]\n",
        "\n",
        "# Sample Thai locations\n",
        "districts = [\"สามย่าน\", \"ลาดพร้าว\", \"บางนา\", \"บางเขน\", \"ห้วยขวาง\", \"บางกะปิ\", \"ดอนเมือง\", \"บางบัวทอง\", \"บางพลี\", \"พระโขนง\", \"พญาไท\", \"บางกอกน้อย\", \"บางกอกใหญ่\", \"ปทุมวัน\", \"สาทร\"]\n",
        "subdistricts = [\"ทุ่งมหาเมฆ\", \"สวนหลวง\", \"ลาดยาว\", \"สีกัน\", \"บางรัก\", \"ปากเกร็ด\", \"บางมด\", \"ลาดพร้าว\", \"ศาลายา\", \"บางกะปิ\", \"คลองตัน\", \"พระโขนง\", \"ลาดพร้าว\", \"บางนา\", \"บางซื่อ\"]\n",
        "provinces = [\"กรุงเทพฯ\", \"กทม\", \"กรุงเทพมหานคร\", \"นนทบุรี\", \"ปทุมธานี\", \"สมุทรปราการ\", \"นครปฐม\", \"ชลบุรี\", \"อยุธยา\", \"สระบุรี\", \"ราชบุรี\", \"อ่างทอง\"]\n",
        "postal_codes = [\"10100\", \"10240\", \"10120\", \"10230\", \"10310\", \"10150\", \"10210\", \"11120\", \"10270\", \"10540\"]\n",
        "\n",
        "# Function to generate random addresses with shuffled order (except name-surname order)\n",
        "def generate_address(num_addresses):\n",
        "    addresses = []\n",
        "    tags = []\n",
        "    \n",
        "    for _ in range(num_addresses):\n",
        "        # Generate name and surname, which must appear together\n",
        "        first_name = random.choice(first_names)\n",
        "        last_name = random.choice(last_names)\n",
        "        name = f\"นาย{first_name} {last_name}\"\n",
        "        name_tag = [\"O\", \"O\"]  # Tag '0' for first name and 'O' for last name\n",
        "        \n",
        "        # Other components for the address and their tags\n",
        "        other_components = [\n",
        "            (f\"{random.randint(1, 999)}/{random.randint(1, 99)}\", \"ADDR\"),\n",
        "            (random.choice(districts), \"LOC\"),\n",
        "            (random.choice(subdistricts), \"LOC\"),\n",
        "            (random.choice(provinces), \"LOC\"),\n",
        "            (random.choice(postal_codes), \"POST\")\n",
        "        ]\n",
        "        \n",
        "        # Shuffle the other components\n",
        "        random.shuffle(other_components)\n",
        "        \n",
        "        # Separate components and their tags after shuffling\n",
        "        shuffled_components, shuffled_tags = zip(*other_components)\n",
        "        \n",
        "        # Combine name (first + last) with other shuffled components\n",
        "        address = f\"{name} \" + \" \".join(shuffled_components)\n",
        "        address_tags = name_tag + list(shuffled_tags)\n",
        "        \n",
        "        # Append results\n",
        "        addresses.append(address)\n",
        "        tags.append(address_tags)\n",
        "    \n",
        "    return addresses, tags\n",
        "\n",
        "# Generate 100 random addresses and their tags\n",
        "random_addresses, random_tags = generate_address(100)\n",
        "\n",
        "# Convert the generated addresses and tags to a DataFrame for CSV export\n",
        "df_addresses = pd.DataFrame({\n",
        "    \"Address\": random_addresses,\n",
        "    \"Tags\": random_tags\n",
        "})\n",
        "\n",
        "# Display the DataFrame\n",
        "df_addresses"
      ]
    },
    {
      "cell_type": "code",
      "execution_count": 13,
      "metadata": {},
      "outputs": [
        {
          "data": {
            "text/html": [
              "<div>\n",
              "<style scoped>\n",
              "    .dataframe tbody tr th:only-of-type {\n",
              "        vertical-align: middle;\n",
              "    }\n",
              "\n",
              "    .dataframe tbody tr th {\n",
              "        vertical-align: top;\n",
              "    }\n",
              "\n",
              "    .dataframe thead th {\n",
              "        text-align: right;\n",
              "    }\n",
              "</style>\n",
              "<table border=\"1\" class=\"dataframe\">\n",
              "  <thead>\n",
              "    <tr style=\"text-align: right;\">\n",
              "      <th></th>\n",
              "      <th>Address</th>\n",
              "      <th>Tags</th>\n",
              "      <th>Predict</th>\n",
              "    </tr>\n",
              "  </thead>\n",
              "  <tbody>\n",
              "    <tr>\n",
              "      <th>0</th>\n",
              "      <td>นายอรุณ สุขใจ 10540 ปากเกร็ด 728/85 บางพลี อ่า...</td>\n",
              "      <td>[O, O, POST, LOC, ADDR, LOC, LOC]</td>\n",
              "      <td>[O, O, POST, O, O, O, O]</td>\n",
              "    </tr>\n",
              "    <tr>\n",
              "      <th>1</th>\n",
              "      <td>นายอัศวิน ชนะพงศ์ บางบัวทอง นนทบุรี 10210 ปากเ...</td>\n",
              "      <td>[O, O, LOC, LOC, POST, LOC, ADDR]</td>\n",
              "      <td>[O, O, O, O, POST, O, O]</td>\n",
              "    </tr>\n",
              "    <tr>\n",
              "      <th>2</th>\n",
              "      <td>นายวิเชียร ชนะพงศ์ 978/77 10540 ปทุมธานี สาทร ...</td>\n",
              "      <td>[O, O, ADDR, POST, LOC, LOC, LOC]</td>\n",
              "      <td>[O, LOC, LOC, POST, LOC, LOC, O]</td>\n",
              "    </tr>\n",
              "    <tr>\n",
              "      <th>3</th>\n",
              "      <td>นายกิตติ เจริญสุข สวนหลวง บางเขน กรุงเทพฯ 300/...</td>\n",
              "      <td>[O, O, LOC, LOC, LOC, ADDR, POST]</td>\n",
              "      <td>[O, LOC, LOC, LOC, LOC, LOC, POST]</td>\n",
              "    </tr>\n",
              "    <tr>\n",
              "      <th>4</th>\n",
              "      <td>นายสุริยะ เจริญสุข กรุงเทพฯ บางกะปิ 10230 บางน...</td>\n",
              "      <td>[O, O, LOC, LOC, POST, LOC, ADDR]</td>\n",
              "      <td>[O, O, O, O, POST, O, O]</td>\n",
              "    </tr>\n",
              "  </tbody>\n",
              "</table>\n",
              "</div>"
            ],
            "text/plain": [
              "                                             Address  \\\n",
              "0  นายอรุณ สุขใจ 10540 ปากเกร็ด 728/85 บางพลี อ่า...   \n",
              "1  นายอัศวิน ชนะพงศ์ บางบัวทอง นนทบุรี 10210 ปากเ...   \n",
              "2  นายวิเชียร ชนะพงศ์ 978/77 10540 ปทุมธานี สาทร ...   \n",
              "3  นายกิตติ เจริญสุข สวนหลวง บางเขน กรุงเทพฯ 300/...   \n",
              "4  นายสุริยะ เจริญสุข กรุงเทพฯ บางกะปิ 10230 บางน...   \n",
              "\n",
              "                                Tags                             Predict  \n",
              "0  [O, O, POST, LOC, ADDR, LOC, LOC]            [O, O, POST, O, O, O, O]  \n",
              "1  [O, O, LOC, LOC, POST, LOC, ADDR]            [O, O, O, O, POST, O, O]  \n",
              "2  [O, O, ADDR, POST, LOC, LOC, LOC]    [O, LOC, LOC, POST, LOC, LOC, O]  \n",
              "3  [O, O, LOC, LOC, LOC, ADDR, POST]  [O, LOC, LOC, LOC, LOC, LOC, POST]  \n",
              "4  [O, O, LOC, LOC, POST, LOC, ADDR]            [O, O, O, O, POST, O, O]  "
            ]
          },
          "execution_count": 13,
          "metadata": {},
          "output_type": "execute_result"
        }
      ],
      "source": [
        "rows = df_addresses.shape[0]\n",
        "\n",
        "for index, row in df_addresses.iterrows():\n",
        "    content = df_addresses.iloc[index,0]\n",
        "    df_addresses['Predict'] = df_addresses['Address'].apply(parse)\n",
        "\n",
        "df_addresses.head()"
      ]
    },
    {
      "cell_type": "code",
      "execution_count": 14,
      "metadata": {},
      "outputs": [],
      "source": [
        "from sklearn.metrics import confusion_matrix\n",
        "import numpy as np\n",
        "\n",
        "# Flatten the 'Tags' and 'Predict' columns to compare corresponding elements\n",
        "true_tags = [tag for tags in df_addresses[\"Tags\"] for tag in tags]\n",
        "predicted_tags = [tag for tags in df_addresses[\"Predict\"] for tag in tags]\n",
        "\n",
        "# Create the confusion matrix\n",
        "cm = confusion_matrix(true_tags, predicted_tags)\n",
        "\n",
        "# Get the unique labels (tags) to display the confusion matrix with proper labels\n",
        "labels = np.unique(true_tags)\n",
        "\n",
        "# Convert the confusion matrix into a DataFrame for better visualization\n",
        "cm_df = pd.DataFrame(cm, index=labels, columns=labels)"
      ]
    },
    {
      "cell_type": "code",
      "execution_count": 15,
      "metadata": {},
      "outputs": [
        {
          "data": {
            "text/html": [
              "<div>\n",
              "<style scoped>\n",
              "    .dataframe tbody tr th:only-of-type {\n",
              "        vertical-align: middle;\n",
              "    }\n",
              "\n",
              "    .dataframe tbody tr th {\n",
              "        vertical-align: top;\n",
              "    }\n",
              "\n",
              "    .dataframe thead th {\n",
              "        text-align: right;\n",
              "    }\n",
              "</style>\n",
              "<table border=\"1\" class=\"dataframe\">\n",
              "  <thead>\n",
              "    <tr style=\"text-align: right;\">\n",
              "      <th></th>\n",
              "      <th>ADDR</th>\n",
              "      <th>LOC</th>\n",
              "      <th>O</th>\n",
              "      <th>POST</th>\n",
              "    </tr>\n",
              "  </thead>\n",
              "  <tbody>\n",
              "    <tr>\n",
              "      <th>ADDR</th>\n",
              "      <td>4</td>\n",
              "      <td>29</td>\n",
              "      <td>67</td>\n",
              "      <td>0</td>\n",
              "    </tr>\n",
              "    <tr>\n",
              "      <th>LOC</th>\n",
              "      <td>10</td>\n",
              "      <td>130</td>\n",
              "      <td>160</td>\n",
              "      <td>0</td>\n",
              "    </tr>\n",
              "    <tr>\n",
              "      <th>O</th>\n",
              "      <td>2</td>\n",
              "      <td>31</td>\n",
              "      <td>167</td>\n",
              "      <td>0</td>\n",
              "    </tr>\n",
              "    <tr>\n",
              "      <th>POST</th>\n",
              "      <td>1</td>\n",
              "      <td>0</td>\n",
              "      <td>0</td>\n",
              "      <td>99</td>\n",
              "    </tr>\n",
              "  </tbody>\n",
              "</table>\n",
              "</div>"
            ],
            "text/plain": [
              "      ADDR  LOC    O  POST\n",
              "ADDR     4   29   67     0\n",
              "LOC     10  130  160     0\n",
              "O        2   31  167     0\n",
              "POST     1    0    0    99"
            ]
          },
          "metadata": {},
          "output_type": "display_data"
        }
      ],
      "source": [
        "display(cm_df)"
      ]
    },
    {
      "cell_type": "code",
      "execution_count": 58,
      "metadata": {},
      "outputs": [
        {
          "name": "stdout",
          "output_type": "stream",
          "text": [
            "14\n",
            "15\n",
            "87\n"
          ]
        }
      ],
      "source": [
        "import random\n",
        "\n",
        "# Generate a fixed set of random numbers with a given seed\n",
        "def generate_fixed_number_set(seed=42):\n",
        "    random.seed(seed)  # Set a fixed seed for reproducibility of the number set\n",
        "    number_set = random.sample(range(1, 101), 100)  # Generate a set of 10 unique random numbers\n",
        "    return number_set\n",
        "\n",
        "# Store the generated fixed set\n",
        "fixed_number_set = generate_fixed_number_set()\n",
        "\n",
        "def get_random_number():\n",
        "    # Select a random number from the fixed set without setting a seed for the choice\n",
        "    return random.choice(fixed_number_set)\n",
        "\n",
        "# Example usage: calling multiple times\n",
        "print(get_random_number())\n",
        "print(get_random_number())\n",
        "print(get_random_number())"
      ]
    },
    {
      "cell_type": "code",
      "execution_count": 132,
      "metadata": {},
      "outputs": [],
      "source": [
        "# Updated function with 'rd' parameter to control shuffling\n",
        "def generate_address(num_addresses, seed=42, rd=True):\n",
        "    random.seed(seed)\n",
        "    addresses = []\n",
        "    tags = []\n",
        "    \n",
        "    for _ in range(num_addresses):\n",
        "        # Generate name and surname, which must appear together\n",
        "        first_name = random.choice(first_names)\n",
        "        last_name = random.choice(last_names)\n",
        "        name = f\"นาย{first_name} {last_name}\"\n",
        "        name_tag = [\"O\", \"O\"]  # Tag 'O' for first name and last name\n",
        "        \n",
        "        # Other components for the address and their tags\n",
        "        other_components = [\n",
        "            (f\"{random.randint(1, 999)}/{random.randint(1, 99)}\", \"ADDR\"),\n",
        "            (random.choice(districts), \"LOC\"),\n",
        "            (random.choice(subdistricts), \"LOC\"),\n",
        "            (random.choice(provinces), \"LOC\"),\n",
        "            (random.choice(postal_codes), \"POST\")\n",
        "        ]\n",
        "        \n",
        "        # Conditionally shuffle the other components based on the rd parameter\n",
        "        if rd:\n",
        "            random.shuffle(other_components)\n",
        "        \n",
        "        # Separate components and their tags (in either shuffled or fixed order)\n",
        "        components, component_tags = zip(*other_components)\n",
        "        \n",
        "        # Combine name (first + last) with other components\n",
        "        address = f\"{name} \" + \" \".join(components)\n",
        "        address_tags = name_tag + list(component_tags)\n",
        "        \n",
        "        # Append results\n",
        "        addresses.append(address)\n",
        "        tags.append(address_tags)\n",
        "    \n",
        "    return addresses, tags"
      ]
    },
    {
      "cell_type": "code",
      "execution_count": 85,
      "metadata": {},
      "outputs": [],
      "source": [
        "random_addresses, random_tags = generate_address(10)\n",
        "\n",
        "# Convert the generated addresses and tags to a DataFrame for CSV export\n",
        "df_addresses = pd.DataFrame({\n",
        "    \"Address\": random_addresses,\n",
        "    \"Tags\": random_tags\n",
        "})"
      ]
    },
    {
      "cell_type": "code",
      "execution_count": 87,
      "metadata": {},
      "outputs": [
        {
          "data": {
            "text/html": [
              "<div>\n",
              "<style scoped>\n",
              "    .dataframe tbody tr th:only-of-type {\n",
              "        vertical-align: middle;\n",
              "    }\n",
              "\n",
              "    .dataframe tbody tr th {\n",
              "        vertical-align: top;\n",
              "    }\n",
              "\n",
              "    .dataframe thead th {\n",
              "        text-align: right;\n",
              "    }\n",
              "</style>\n",
              "<table border=\"1\" class=\"dataframe\">\n",
              "  <thead>\n",
              "    <tr style=\"text-align: right;\">\n",
              "      <th></th>\n",
              "      <th>Address</th>\n",
              "      <th>Tags</th>\n",
              "    </tr>\n",
              "  </thead>\n",
              "  <tbody>\n",
              "    <tr>\n",
              "      <th>0</th>\n",
              "      <td>นายพัฒน์พงศ์ สวัสดี นนทบุรี ห้วยขวาง สีกัน 101...</td>\n",
              "      <td>[O, O, LOC, LOC, LOC, POST, ADDR]</td>\n",
              "    </tr>\n",
              "    <tr>\n",
              "      <th>1</th>\n",
              "      <td>นายสมชาย มีสุข 96/28 สระบุรี ศาลายา บางเขน 10100</td>\n",
              "      <td>[O, O, ADDR, LOC, LOC, LOC, POST]</td>\n",
              "    </tr>\n",
              "    <tr>\n",
              "      <th>2</th>\n",
              "      <td>นายกิตติ สุวรรณ 10120 604/36 บางกอกใหญ่ บางนา ...</td>\n",
              "      <td>[O, O, POST, ADDR, LOC, LOC, LOC]</td>\n",
              "    </tr>\n",
              "    <tr>\n",
              "      <th>3</th>\n",
              "      <td>นายกิตติ ทรงชัย กทม ลาดพร้าว 345/14 10150 บางมด</td>\n",
              "      <td>[O, O, LOC, LOC, ADDR, POST, LOC]</td>\n",
              "    </tr>\n",
              "    <tr>\n",
              "      <th>4</th>\n",
              "      <td>นายวัฒนา สวัสดี ปทุมธานี 997/49 10540 ลาดพร้าว...</td>\n",
              "      <td>[O, O, LOC, ADDR, POST, LOC, LOC]</td>\n",
              "    </tr>\n",
              "    <tr>\n",
              "      <th>5</th>\n",
              "      <td>นายสมชาย เจริญสุข 234/99 10240 ห้วยขวาง สวนหลว...</td>\n",
              "      <td>[O, O, ADDR, POST, LOC, LOC, LOC]</td>\n",
              "    </tr>\n",
              "    <tr>\n",
              "      <th>6</th>\n",
              "      <td>นายสมศักดิ์ กิตติกูล อ่างทอง 364/27 บางรัก พญา...</td>\n",
              "      <td>[O, O, LOC, ADDR, LOC, LOC, POST]</td>\n",
              "    </tr>\n",
              "    <tr>\n",
              "      <th>7</th>\n",
              "      <td>นายสมศักดิ์ สุวรรณ 10270 อ่างทอง 389/35 คลองตั...</td>\n",
              "      <td>[O, O, POST, LOC, ADDR, LOC, LOC]</td>\n",
              "    </tr>\n",
              "    <tr>\n",
              "      <th>8</th>\n",
              "      <td>นายอรุณ มีสุข กทม ดอนเมือง 825/41 บางรัก 10230</td>\n",
              "      <td>[O, O, LOC, LOC, ADDR, LOC, POST]</td>\n",
              "    </tr>\n",
              "    <tr>\n",
              "      <th>9</th>\n",
              "      <td>นายสุริยะ รุ่งเรือง 937/83 10120 ปทุมธานี ลาดย...</td>\n",
              "      <td>[O, O, ADDR, POST, LOC, LOC, LOC]</td>\n",
              "    </tr>\n",
              "  </tbody>\n",
              "</table>\n",
              "</div>"
            ],
            "text/plain": [
              "                                             Address  \\\n",
              "0  นายพัฒน์พงศ์ สวัสดี นนทบุรี ห้วยขวาง สีกัน 101...   \n",
              "1   นายสมชาย มีสุข 96/28 สระบุรี ศาลายา บางเขน 10100   \n",
              "2  นายกิตติ สุวรรณ 10120 604/36 บางกอกใหญ่ บางนา ...   \n",
              "3    นายกิตติ ทรงชัย กทม ลาดพร้าว 345/14 10150 บางมด   \n",
              "4  นายวัฒนา สวัสดี ปทุมธานี 997/49 10540 ลาดพร้าว...   \n",
              "5  นายสมชาย เจริญสุข 234/99 10240 ห้วยขวาง สวนหลว...   \n",
              "6  นายสมศักดิ์ กิตติกูล อ่างทอง 364/27 บางรัก พญา...   \n",
              "7  นายสมศักดิ์ สุวรรณ 10270 อ่างทอง 389/35 คลองตั...   \n",
              "8     นายอรุณ มีสุข กทม ดอนเมือง 825/41 บางรัก 10230   \n",
              "9  นายสุริยะ รุ่งเรือง 937/83 10120 ปทุมธานี ลาดย...   \n",
              "\n",
              "                                Tags  \n",
              "0  [O, O, LOC, LOC, LOC, POST, ADDR]  \n",
              "1  [O, O, ADDR, LOC, LOC, LOC, POST]  \n",
              "2  [O, O, POST, ADDR, LOC, LOC, LOC]  \n",
              "3  [O, O, LOC, LOC, ADDR, POST, LOC]  \n",
              "4  [O, O, LOC, ADDR, POST, LOC, LOC]  \n",
              "5  [O, O, ADDR, POST, LOC, LOC, LOC]  \n",
              "6  [O, O, LOC, ADDR, LOC, LOC, POST]  \n",
              "7  [O, O, POST, LOC, ADDR, LOC, LOC]  \n",
              "8  [O, O, LOC, LOC, ADDR, LOC, POST]  \n",
              "9  [O, O, ADDR, POST, LOC, LOC, LOC]  "
            ]
          },
          "execution_count": 87,
          "metadata": {},
          "output_type": "execute_result"
        }
      ],
      "source": [
        "df_addresses"
      ]
    },
    {
      "cell_type": "code",
      "execution_count": 122,
      "metadata": {},
      "outputs": [],
      "source": [
        "def get_random_ex():\n",
        "    return df_addresses.sample(n=1).iloc[0]"
      ]
    },
    {
      "cell_type": "code",
      "execution_count": 129,
      "metadata": {},
      "outputs": [
        {
          "name": "stdout",
          "output_type": "stream",
          "text": [
            "Address    นายวัฒนา สวัสดี ปทุมธานี 997/49 10540 ลาดพร้าว...\n",
            "Tags                       [O, O, LOC, ADDR, POST, LOC, LOC]\n",
            "Name: 4, dtype: object\n"
          ]
        }
      ],
      "source": [
        "print(get_random_ex())"
      ]
    },
    {
      "cell_type": "code",
      "execution_count": null,
      "metadata": {},
      "outputs": [],
      "source": [
        "# Shapley\n",
        "cbr = joblib.load('catboost.joblib')\n",
        "\n",
        "# Data Cleansing\n",
        "tokens = long_text.split()\n",
        "feature_matrix = [tokens_to_features(tokens, i) for i in range(len(tokens))]  # Extract features\n",
        "feature_df = pd.DataFrame(feature_matrix)\n",
        "feature_df['BOS'] = feature_df['BOS'].apply(lambda x: 1 if x else 0)\n",
        "feature_df['EOS'] = feature_df['EOS'].apply(lambda x: 1 if x else 0)\n",
        "cat_features = feature_df.select_dtypes(include=['object']).columns.tolist()\n",
        "feature_df_new = feature_df.apply(lambda row: fill_values(row, cat_features), axis=1)\n",
        "# Prediction\n",
        "predicted_probs = cbr.predict(feature_df_new)\n",
        "# Shap\n",
        "explainer = shap.Explainer(cbr)\n",
        "shap_values = explainer(feature_df_new)\n",
        "classes = cbr.classes_\n",
        "#Waterfall plot\n",
        "instance_idx = 0  # Only one instance, so index is 0\n",
        "class_idx = i     # Change to the index of the class you want to explain (e.g., \"ADDR\")\n",
        "    \n",
        "    # Extract SHAP values and base value\n",
        "shap_values_for_class = shap_values[instance_idx].values[:, class_idx]\n",
        "base_value_for_class = shap_values[instance_idx].base_values[class_idx]\n",
        "data_for_instance = shap_values[instance_idx].data\n",
        "    \n",
        "    # Generate waterfall plot\n",
        "shap.plots.waterfall(\n",
        "    shap.Explanation(\n",
        "        values=shap_values_for_class,\n",
        "        base_values=base_value_for_class,\n",
        "        data=data_for_instance,\n",
        "        feature_names=feature_df_new.columns\n",
        "        )\n",
        "    )\n",
        "plt.show()"
      ]
    }
  ],
  "metadata": {
    "colab": {
      "provenance": []
    },
    "kernelspec": {
      "display_name": "Python 3",
      "name": "python3"
    },
    "language_info": {
      "codemirror_mode": {
        "name": "ipython",
        "version": 3
      },
      "file_extension": ".py",
      "mimetype": "text/x-python",
      "name": "python",
      "nbconvert_exporter": "python",
      "pygments_lexer": "ipython3",
      "version": "3.12.7"
    }
  },
  "nbformat": 4,
  "nbformat_minor": 0
}

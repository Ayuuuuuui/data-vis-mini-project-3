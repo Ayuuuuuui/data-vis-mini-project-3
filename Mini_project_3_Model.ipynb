{
  "cells": [
    {
      "cell_type": "code",
      "execution_count": 3,
      "metadata": {
        "colab": {
          "base_uri": "https://localhost:8080/"
        },
        "id": "nCkVJghkTbJg",
        "outputId": "4b535e8f-57f1-499c-e825-181eb3c0ae9e"
      },
      "outputs": [
        {
          "name": "stdout",
          "output_type": "stream",
          "text": [
            "Downloading...\n",
            "From: https://drive.google.com/uc?id=1jwJqh3CA6Grcykoh-AA8LlUfyamdFuty\n",
            "To: /content/model.joblib\n",
            "\r  0% 0.00/1.70M [00:00<?, ?B/s]\r100% 1.70M/1.70M [00:00<00:00, 140MB/s]\n"
          ]
        }
      ],
      "source": [
        "# !gdown 1jwJqh3CA6Grcykoh-AA8LlUfyamdFuty"
      ]
    },
    {
      "cell_type": "code",
      "execution_count": 2,
      "metadata": {
        "colab": {
          "base_uri": "https://localhost:8080/"
        },
        "id": "pbYg_BQyTaX8",
        "outputId": "2cd3dd1b-b3e8-476d-87db-1eb28f42a6db"
      },
      "outputs": [],
      "source": [
        "# !pip install sklearn_crfsuite\n",
        "import joblib\n",
        "import pandas as pd\n",
        "model = joblib.load(\"model.joblib\")"
      ]
    },
    {
      "cell_type": "code",
      "execution_count": 3,
      "metadata": {
        "id": "buVG-3d8TePG"
      },
      "outputs": [],
      "source": [
        "stopwords = [\"ผู้\", \"ที่\", \"ซึ่ง\", \"อัน\"]\n",
        "\n",
        "def tokens_to_features(tokens, i):\n",
        "  word = tokens[i]\n",
        "\n",
        "  features = {\n",
        "    \"bias\": 1.0,\n",
        "    \"word.word\": word,\n",
        "    \"word[:3]\": word[:3],\n",
        "    \"word.isspace()\": word.isspace(),\n",
        "    \"word.is_stopword()\": word in stopwords,\n",
        "    \"word.isdigit()\": word.isdigit(),\n",
        "    \"word.islen5\": word.isdigit() and len(word) == 5\n",
        "  }\n",
        "\n",
        "  if i > 0:\n",
        "    prevword = tokens[i - 1]\n",
        "    features.update({\n",
        "      \"-1.word.prevword\": prevword,\n",
        "      \"-1.word.isspace()\": prevword.isspace(),\n",
        "      \"-1.word.is_stopword()\": prevword in stopwords,\n",
        "      \"-1.word.isdigit()\": prevword.isdigit(),\n",
        "    })\n",
        "  else:\n",
        "    features[\"BOS\"] = True\n",
        "\n",
        "  if i < len(tokens) - 1:\n",
        "    nextword = tokens[i + 1]\n",
        "    features.update({\n",
        "      \"+1.word.nextword\": nextword,\n",
        "      \"+1.word.isspace()\": nextword.isspace(),\n",
        "      \"+1.word.is_stopword()\": nextword in stopwords,\n",
        "      \"+1.word.isdigit()\": nextword.isdigit(),\n",
        "    })\n",
        "  else:\n",
        "    features[\"EOS\"] = True\n",
        "\n",
        "  return features\n",
        "\n",
        "def parse(text):\n",
        "  tokens = text.split()\n",
        "  features = [tokens_to_features(tokens, i) for i in range(len(tokens))]\n",
        "  return model.predict([features])[0]"
      ]
    },
    {
      "cell_type": "code",
      "execution_count": 4,
      "metadata": {
        "colab": {
          "base_uri": "https://localhost:8080/"
        },
        "id": "kiZHL7afTk1Q",
        "outputId": "43c19150-1116-4d4f-cdd3-8110493aaac9"
      },
      "outputs": [
        {
          "data": {
            "text/plain": [
              "array(['O', 'O', 'ADDR', 'ADDR', 'ADDR', 'ADDR', 'ADDR', 'ADDR', 'LOC',\n",
              "       'LOC', 'POST'], dtype=object)"
            ]
          },
          "execution_count": 4,
          "metadata": {},
          "output_type": "execute_result"
        }
      ],
      "source": [
        "parse(\"นายสมชาย เข็มกลัด 254 ถนน พญาไท แขวง วังใหม่ เขต ปทุมวัน กรุงเทพมหานคร 10330\")"
      ]
    },
    {
      "cell_type": "code",
      "execution_count": 5,
      "metadata": {
        "colab": {
          "base_uri": "https://localhost:8080/"
        },
        "id": "9kI4mGFpTmDO",
        "outputId": "65c8cae0-32cb-40b4-ca2d-a74ce6a05bb0"
      },
      "outputs": [
        {
          "data": {
            "text/plain": [
              "array(['ADDR', 'ADDR', 'ADDR', 'ADDR', 'ADDR', 'ADDR', 'ADDR', 'ADDR',\n",
              "       'POST'], dtype=object)"
            ]
          },
          "execution_count": 5,
          "metadata": {},
          "output_type": "execute_result"
        }
      ],
      "source": [
        "parse(\"นายมงคล 123/4 ตำบล บ้านไกล อำเภอ เมือง จังหวัด ลพบุรี 15000\")"
      ]
    },
    {
      "cell_type": "code",
      "execution_count": 6,
      "metadata": {
        "id": "tezOIdbqR5lL"
      },
      "outputs": [
        {
          "ename": "FileNotFoundError",
          "evalue": "[Errno 2] No such file or directory: 'NE-dict.txt'",
          "output_type": "error",
          "traceback": [
            "\u001b[0;31m---------------------------------------------------------------------------\u001b[0m",
            "\u001b[0;31mFileNotFoundError\u001b[0m                         Traceback (most recent call last)",
            "Cell \u001b[0;32mIn[6], line 1\u001b[0m\n\u001b[0;32m----> 1\u001b[0m \u001b[38;5;28;01mwith\u001b[39;00m \u001b[38;5;28;43mopen\u001b[39;49m\u001b[43m(\u001b[49m\u001b[38;5;124;43m'\u001b[39;49m\u001b[38;5;124;43mNE-dict.txt\u001b[39;49m\u001b[38;5;124;43m'\u001b[39;49m\u001b[43m,\u001b[49m\u001b[43m \u001b[49m\u001b[38;5;124;43m'\u001b[39;49m\u001b[38;5;124;43mr\u001b[39;49m\u001b[38;5;124;43m'\u001b[39;49m\u001b[43m)\u001b[49m \u001b[38;5;28;01mas\u001b[39;00m f:\n\u001b[1;32m      2\u001b[0m     lines \u001b[38;5;241m=\u001b[39m f\u001b[38;5;241m.\u001b[39mreadlines()\n\u001b[1;32m      4\u001b[0m \u001b[38;5;66;03m# Remove newline characters from each line\u001b[39;00m\n",
            "File \u001b[0;32m~/Library/Python/3.12/lib/python/site-packages/IPython/core/interactiveshell.py:324\u001b[0m, in \u001b[0;36m_modified_open\u001b[0;34m(file, *args, **kwargs)\u001b[0m\n\u001b[1;32m    317\u001b[0m \u001b[38;5;28;01mif\u001b[39;00m file \u001b[38;5;129;01min\u001b[39;00m {\u001b[38;5;241m0\u001b[39m, \u001b[38;5;241m1\u001b[39m, \u001b[38;5;241m2\u001b[39m}:\n\u001b[1;32m    318\u001b[0m     \u001b[38;5;28;01mraise\u001b[39;00m \u001b[38;5;167;01mValueError\u001b[39;00m(\n\u001b[1;32m    319\u001b[0m         \u001b[38;5;124mf\u001b[39m\u001b[38;5;124m\"\u001b[39m\u001b[38;5;124mIPython won\u001b[39m\u001b[38;5;124m'\u001b[39m\u001b[38;5;124mt let you open fd=\u001b[39m\u001b[38;5;132;01m{\u001b[39;00mfile\u001b[38;5;132;01m}\u001b[39;00m\u001b[38;5;124m by default \u001b[39m\u001b[38;5;124m\"\u001b[39m\n\u001b[1;32m    320\u001b[0m         \u001b[38;5;124m\"\u001b[39m\u001b[38;5;124mas it is likely to crash IPython. If you know what you are doing, \u001b[39m\u001b[38;5;124m\"\u001b[39m\n\u001b[1;32m    321\u001b[0m         \u001b[38;5;124m\"\u001b[39m\u001b[38;5;124myou can use builtins\u001b[39m\u001b[38;5;124m'\u001b[39m\u001b[38;5;124m open.\u001b[39m\u001b[38;5;124m\"\u001b[39m\n\u001b[1;32m    322\u001b[0m     )\n\u001b[0;32m--> 324\u001b[0m \u001b[38;5;28;01mreturn\u001b[39;00m \u001b[43mio_open\u001b[49m\u001b[43m(\u001b[49m\u001b[43mfile\u001b[49m\u001b[43m,\u001b[49m\u001b[43m \u001b[49m\u001b[38;5;241;43m*\u001b[39;49m\u001b[43margs\u001b[49m\u001b[43m,\u001b[49m\u001b[43m \u001b[49m\u001b[38;5;241;43m*\u001b[39;49m\u001b[38;5;241;43m*\u001b[39;49m\u001b[43mkwargs\u001b[49m\u001b[43m)\u001b[49m\n",
            "\u001b[0;31mFileNotFoundError\u001b[0m: [Errno 2] No such file or directory: 'NE-dict.txt'"
          ]
        }
      ],
      "source": [
        "with open('NE-dict.txt', 'r') as f:\n",
        "    lines = f.readlines()\n",
        "\n",
        "# Remove newline characters from each line\n",
        "lines = [line.strip() for line in lines]"
      ]
    },
    {
      "cell_type": "code",
      "execution_count": 7,
      "metadata": {
        "colab": {
          "base_uri": "https://localhost:8080/"
        },
        "id": "iIWcVmALTrWt",
        "outputId": "0fe8623d-0b17-43cc-b68e-24a1c38213b7"
      },
      "outputs": [
        {
          "ename": "NameError",
          "evalue": "name 'lines' is not defined",
          "output_type": "error",
          "traceback": [
            "\u001b[0;31m---------------------------------------------------------------------------\u001b[0m",
            "\u001b[0;31mNameError\u001b[0m                                 Traceback (most recent call last)",
            "Cell \u001b[0;32mIn[7], line 2\u001b[0m\n\u001b[1;32m      1\u001b[0m \u001b[38;5;28;01mfor\u001b[39;00m i \u001b[38;5;129;01min\u001b[39;00m \u001b[38;5;28mrange\u001b[39m(\u001b[38;5;241m200\u001b[39m):\n\u001b[0;32m----> 2\u001b[0m   tag \u001b[38;5;241m=\u001b[39m parse(\u001b[43mlines\u001b[49m[i])\n\u001b[1;32m      3\u001b[0m   \u001b[38;5;28mprint\u001b[39m(\u001b[38;5;124mf\u001b[39m\u001b[38;5;124m'\u001b[39m\u001b[38;5;132;01m{\u001b[39;00mtag\u001b[38;5;132;01m}\u001b[39;00m\u001b[38;5;124m, \u001b[39m\u001b[38;5;132;01m{\u001b[39;00mlines[i]\u001b[38;5;132;01m}\u001b[39;00m\u001b[38;5;124m'\u001b[39m)\n",
            "\u001b[0;31mNameError\u001b[0m: name 'lines' is not defined"
          ]
        }
      ],
      "source": [
        "for i in range(200):\n",
        "  tag = parse(lines[i])\n",
        "  print(f'{tag}, {lines[i]}')"
      ]
    },
    {
      "cell_type": "code",
      "execution_count": 8,
      "metadata": {
        "id": "JzxTeupGUZEC"
      },
      "outputs": [
        {
          "ename": "FileNotFoundError",
          "evalue": "[Errno 2] No such file or directory: 'NE-dict.txt'",
          "output_type": "error",
          "traceback": [
            "\u001b[0;31m---------------------------------------------------------------------------\u001b[0m",
            "\u001b[0;31mFileNotFoundError\u001b[0m                         Traceback (most recent call last)",
            "Cell \u001b[0;32mIn[8], line 1\u001b[0m\n\u001b[0;32m----> 1\u001b[0m \u001b[38;5;28;01mwith\u001b[39;00m \u001b[38;5;28;43mopen\u001b[39;49m\u001b[43m(\u001b[49m\u001b[38;5;124;43m'\u001b[39;49m\u001b[38;5;124;43mNE-dict.txt\u001b[39;49m\u001b[38;5;124;43m'\u001b[39;49m\u001b[43m,\u001b[49m\u001b[43m \u001b[49m\u001b[38;5;124;43m'\u001b[39;49m\u001b[38;5;124;43mr\u001b[39;49m\u001b[38;5;124;43m'\u001b[39;49m\u001b[43m)\u001b[49m \u001b[38;5;28;01mas\u001b[39;00m f:\n\u001b[1;32m      2\u001b[0m     lines \u001b[38;5;241m=\u001b[39m f\u001b[38;5;241m.\u001b[39mreadlines()\n\u001b[1;32m      4\u001b[0m \u001b[38;5;66;03m# Remove newline characters from each line\u001b[39;00m\n",
            "File \u001b[0;32m~/Library/Python/3.12/lib/python/site-packages/IPython/core/interactiveshell.py:324\u001b[0m, in \u001b[0;36m_modified_open\u001b[0;34m(file, *args, **kwargs)\u001b[0m\n\u001b[1;32m    317\u001b[0m \u001b[38;5;28;01mif\u001b[39;00m file \u001b[38;5;129;01min\u001b[39;00m {\u001b[38;5;241m0\u001b[39m, \u001b[38;5;241m1\u001b[39m, \u001b[38;5;241m2\u001b[39m}:\n\u001b[1;32m    318\u001b[0m     \u001b[38;5;28;01mraise\u001b[39;00m \u001b[38;5;167;01mValueError\u001b[39;00m(\n\u001b[1;32m    319\u001b[0m         \u001b[38;5;124mf\u001b[39m\u001b[38;5;124m\"\u001b[39m\u001b[38;5;124mIPython won\u001b[39m\u001b[38;5;124m'\u001b[39m\u001b[38;5;124mt let you open fd=\u001b[39m\u001b[38;5;132;01m{\u001b[39;00mfile\u001b[38;5;132;01m}\u001b[39;00m\u001b[38;5;124m by default \u001b[39m\u001b[38;5;124m\"\u001b[39m\n\u001b[1;32m    320\u001b[0m         \u001b[38;5;124m\"\u001b[39m\u001b[38;5;124mas it is likely to crash IPython. If you know what you are doing, \u001b[39m\u001b[38;5;124m\"\u001b[39m\n\u001b[1;32m    321\u001b[0m         \u001b[38;5;124m\"\u001b[39m\u001b[38;5;124myou can use builtins\u001b[39m\u001b[38;5;124m'\u001b[39m\u001b[38;5;124m open.\u001b[39m\u001b[38;5;124m\"\u001b[39m\n\u001b[1;32m    322\u001b[0m     )\n\u001b[0;32m--> 324\u001b[0m \u001b[38;5;28;01mreturn\u001b[39;00m \u001b[43mio_open\u001b[49m\u001b[43m(\u001b[49m\u001b[43mfile\u001b[49m\u001b[43m,\u001b[49m\u001b[43m \u001b[49m\u001b[38;5;241;43m*\u001b[39;49m\u001b[43margs\u001b[49m\u001b[43m,\u001b[49m\u001b[43m \u001b[49m\u001b[38;5;241;43m*\u001b[39;49m\u001b[38;5;241;43m*\u001b[39;49m\u001b[43mkwargs\u001b[49m\u001b[43m)\u001b[49m\n",
            "\u001b[0;31mFileNotFoundError\u001b[0m: [Errno 2] No such file or directory: 'NE-dict.txt'"
          ]
        }
      ],
      "source": [
        "with open('NE-dict.txt', 'r') as f:\n",
        "    lines = f.readlines()\n",
        "\n",
        "# Remove newline characters from each line\n",
        "lines = [line.strip() for line in lines]\n",
        "\n",
        "# Create a new list to store lines containing 'เขต'\n",
        "lines_district = []\n",
        "\n",
        "# Iterate through each line and add to the new list if it contains 'เขต'\n",
        "for line in lines:\n",
        "    if 'เขต' in line:\n",
        "        lines_district.append(line)"
      ]
    },
    {
      "cell_type": "code",
      "execution_count": 9,
      "metadata": {
        "colab": {
          "base_uri": "https://localhost:8080/"
        },
        "id": "CEB0GqnZUuHD",
        "outputId": "bb7ed1b3-e627-416b-ee00-0eb629587ac7"
      },
      "outputs": [
        {
          "ename": "NameError",
          "evalue": "name 'lines_district' is not defined",
          "output_type": "error",
          "traceback": [
            "\u001b[0;31m---------------------------------------------------------------------------\u001b[0m",
            "\u001b[0;31mNameError\u001b[0m                                 Traceback (most recent call last)",
            "Cell \u001b[0;32mIn[9], line 1\u001b[0m\n\u001b[0;32m----> 1\u001b[0m \u001b[38;5;28;01mfor\u001b[39;00m i \u001b[38;5;129;01min\u001b[39;00m \u001b[38;5;28mrange\u001b[39m(\u001b[38;5;28mlen\u001b[39m(\u001b[43mlines_district\u001b[49m)):\n\u001b[1;32m      2\u001b[0m   tag \u001b[38;5;241m=\u001b[39m parse(lines_district[i])\n\u001b[1;32m      3\u001b[0m   \u001b[38;5;28mprint\u001b[39m(\u001b[38;5;124mf\u001b[39m\u001b[38;5;124m'\u001b[39m\u001b[38;5;132;01m{\u001b[39;00mtag\u001b[38;5;132;01m}\u001b[39;00m\u001b[38;5;124m, \u001b[39m\u001b[38;5;132;01m{\u001b[39;00mlines_district[i]\u001b[38;5;132;01m}\u001b[39;00m\u001b[38;5;124m'\u001b[39m)\n",
            "\u001b[0;31mNameError\u001b[0m: name 'lines_district' is not defined"
          ]
        }
      ],
      "source": [
        "for i in range(len(lines_district)):\n",
        "  tag = parse(lines_district[i])\n",
        "  print(f'{tag}, {lines_district[i]}')"
      ]
    },
    {
      "cell_type": "code",
      "execution_count": 10,
      "metadata": {
        "colab": {
          "base_uri": "https://localhost:8080/"
        },
        "id": "YaeaHbykVB3o",
        "outputId": "d90e90ba-1a83-4268-d7bd-36836fbe8b92"
      },
      "outputs": [
        {
          "data": {
            "text/plain": [
              "array(['ADDR', 'ADDR', 'ADDR'], dtype=object)"
            ]
          },
          "execution_count": 10,
          "metadata": {},
          "output_type": "execute_result"
        }
      ],
      "source": [
        "parse('เทศบาลตำบลตลาดเขต อำเภอพนมทวน จังหวัดกาญจนบุรี')"
      ]
    },
    {
      "cell_type": "code",
      "execution_count": 11,
      "metadata": {
        "colab": {
          "base_uri": "https://localhost:8080/",
          "height": 374
        },
        "id": "Ht1Ax-jFWUkh",
        "outputId": "fac5e282-d914-4ea8-b394-c845cec9f2f8"
      },
      "outputs": [
        {
          "name": "stdout",
          "output_type": "stream",
          "text": [
            "<class 'pandas.core.frame.DataFrame'>\n",
            "RangeIndex: 52 entries, 0 to 51\n",
            "Data columns (total 2 columns):\n",
            " #   Column   Non-Null Count  Dtype \n",
            "---  ------   --------------  ----- \n",
            " 0   title    52 non-null     object\n",
            " 1   content  52 non-null     object\n",
            "dtypes: object(2)\n",
            "memory usage: 964.0+ bytes\n"
          ]
        },
        {
          "data": {
            "text/html": [
              "<div>\n",
              "<style scoped>\n",
              "    .dataframe tbody tr th:only-of-type {\n",
              "        vertical-align: middle;\n",
              "    }\n",
              "\n",
              "    .dataframe tbody tr th {\n",
              "        vertical-align: top;\n",
              "    }\n",
              "\n",
              "    .dataframe thead th {\n",
              "        text-align: right;\n",
              "    }\n",
              "</style>\n",
              "<table border=\"1\" class=\"dataframe\">\n",
              "  <thead>\n",
              "    <tr style=\"text-align: right;\">\n",
              "      <th></th>\n",
              "      <th>title</th>\n",
              "      <th>content</th>\n",
              "    </tr>\n",
              "  </thead>\n",
              "  <tbody>\n",
              "    <tr>\n",
              "      <th>0</th>\n",
              "      <td>หลาก&amp;หลายไอที - อลังการไลน์อัพโน้ตบุ๊กAI  เลอโ...</td>\n",
              "      <td>เลอโนโวเปิดตัวผลิตภัณฑ์ใหม่ล่าสุดของไลน์อัพ Le...</td>\n",
              "    </tr>\n",
              "    <tr>\n",
              "      <th>1</th>\n",
              "      <td>หลาก&amp;หลายไอที - อลังการแอปเปิ้ลอีเวนต์  ชูไอโฟ...</td>\n",
              "      <td>นอกจากสินค้าเรือธงอย่าง iPhone 16 series ซึ่งแ...</td>\n",
              "    </tr>\n",
              "    <tr>\n",
              "      <th>2</th>\n",
              "      <td>สาวกห้ามพลาด เทียบราคา iPhone16 ถูกกว่า iPhone15</td>\n",
              "      <td>สาวก Apple ห้ามพลาด เทียบราคา iPhone16 ถูกกว่า...</td>\n",
              "    </tr>\n",
              "    <tr>\n",
              "      <th>3</th>\n",
              "      <td>หลาก&amp;หลายไอที - ‘แผ่นพิมพ์วงจรไฟฟ้า’โอกาสไทย-ผ...</td>\n",
              "      <td>ประเทศไทยกำลังอยู่ในช่วงหัวเลี้ยวหัวต่อสำคัญขอ...</td>\n",
              "    </tr>\n",
              "    <tr>\n",
              "      <th>4</th>\n",
              "      <td>หลาก&amp;หลายไอที - ‘แผ่นพิมพ์วงจรไฟฟ้า’  โอกาสไทย...</td>\n",
              "      <td>แผ่นพิมพ์วงจรไฟฟ้าหรือ พีซีบีเป็นรากฐานที่สำคั...</td>\n",
              "    </tr>\n",
              "  </tbody>\n",
              "</table>\n",
              "</div>"
            ],
            "text/plain": [
              "                                               title  \\\n",
              "0  หลาก&หลายไอที - อลังการไลน์อัพโน้ตบุ๊กAI  เลอโ...   \n",
              "1  หลาก&หลายไอที - อลังการแอปเปิ้ลอีเวนต์  ชูไอโฟ...   \n",
              "2   สาวกห้ามพลาด เทียบราคา iPhone16 ถูกกว่า iPhone15   \n",
              "3  หลาก&หลายไอที - ‘แผ่นพิมพ์วงจรไฟฟ้า’โอกาสไทย-ผ...   \n",
              "4  หลาก&หลายไอที - ‘แผ่นพิมพ์วงจรไฟฟ้า’  โอกาสไทย...   \n",
              "\n",
              "                                             content  \n",
              "0  เลอโนโวเปิดตัวผลิตภัณฑ์ใหม่ล่าสุดของไลน์อัพ Le...  \n",
              "1  นอกจากสินค้าเรือธงอย่าง iPhone 16 series ซึ่งแ...  \n",
              "2  สาวก Apple ห้ามพลาด เทียบราคา iPhone16 ถูกกว่า...  \n",
              "3  ประเทศไทยกำลังอยู่ในช่วงหัวเลี้ยวหัวต่อสำคัญขอ...  \n",
              "4  แผ่นพิมพ์วงจรไฟฟ้าหรือ พีซีบีเป็นรากฐานที่สำคั...  "
            ]
          },
          "metadata": {},
          "output_type": "display_data"
        },
        {
          "name": "stdout",
          "output_type": "stream",
          "text": [
            "done\n"
          ]
        }
      ],
      "source": [
        "import zipfile\n",
        "from bs4 import BeautifulSoup\n",
        "import textwrap\n",
        "import pandas as pd\n",
        "\n",
        "zipf = zipfile.ZipFile('khaosod.zip','r')\n",
        "filenames = zipf.namelist()\n",
        "\n",
        "corpus_content = list()\n",
        "for filename in filenames:\n",
        "  html_file = zipf.open(filename)\n",
        "  html_string = html_file.read().decode('utf-8')\n",
        "  html_file.close()\n",
        "\n",
        "  html_soup = BeautifulSoup(html_string, 'html.parser')\n",
        "  # print(html_soup.prettify())\n",
        "\n",
        "  title_box = html_soup.find('h1',class_='udsg__main-title')\n",
        "  title = title_box.text.strip()\n",
        "  # print(title)\n",
        "\n",
        "  content_box = html_soup.find('div', class_='udsg__content')\n",
        "  content = ''\n",
        "  for p in content_box.find_all('p'):\n",
        "    content += p.text\n",
        "  content = content.replace('\\n','').replace('  ','').strip()\n",
        "  # print(textwrap.fill(content,width=120))\n",
        "\n",
        "  corpus_content.append({'title':title,\n",
        "                         'content':content\n",
        "                         })\n",
        "zipf.close()\n",
        "\n",
        "df_corpus = pd.DataFrame(corpus_content)\n",
        "df_corpus.info()\n",
        "display(df_corpus.head())\n",
        "\n",
        "df_corpus.to_json('khaosod.json', orient = 'table', force_ascii = False, indent = 2)\n",
        "print('done')"
      ]
    },
    {
      "cell_type": "code",
      "execution_count": 97,
      "metadata": {},
      "outputs": [
        {
          "name": "stdout",
          "output_type": "stream",
          "text": [
            "และ occurs 166 times\n",
            "AI occurs 124 times\n",
            "Pro occurs 91 times\n",
            "2 occurs 89 times\n",
            "Apple occurs 78 times\n",
            "iPhone occurs 77 times\n",
            "นิ้ว occurs 71 times\n",
            "OLED occurs 70 times\n",
            "1 occurs 69 times\n",
            "7 occurs 69 times\n"
          ]
        }
      ],
      "source": [
        "contents = df_corpus['content'].apply(lambda x: x.split()).tolist()\n",
        "contents = sum(contents, [])\n",
        "\n",
        "# Create a dictionary to count word occurrences\n",
        "word_counts = {}\n",
        "for word in contents:\n",
        "    if word in word_counts:\n",
        "        word_counts[word] += 1\n",
        "    else:\n",
        "        word_counts[word] = 1\n",
        "\n",
        "# Sort the dictionary by frequency in descending order and get the top 10 words\n",
        "top_ten_words = sorted(word_counts.items(), key=lambda x: x[1], reverse=True)[:10]\n",
        "\n",
        "# Print the top 10 most common words with their counts\n",
        "for word, count in top_ten_words:\n",
        "    print(f'{word} occurs {count} times')"
      ]
    },
    {
      "cell_type": "code",
      "execution_count": null,
      "metadata": {},
      "outputs": [],
      "source": []
    },
    {
      "cell_type": "code",
      "execution_count": 52,
      "metadata": {
        "id": "4XiOfKVFXpzy"
      },
      "outputs": [],
      "source": [
        "cont = []\n",
        "result = []\n",
        "for i in range(df_corpus.shape[0]):\n",
        "    content = df_corpus['content'][i]\n",
        "    cont.append(content.split())\n",
        "    result.append(parse(content).tolist())\n",
        "\n",
        "cont = sum(cont,[])\n",
        "result = sum(result,[])"
      ]
    },
    {
      "cell_type": "code",
      "execution_count": 53,
      "metadata": {
        "colab": {
          "base_uri": "https://localhost:8080/",
          "height": 2247
        },
        "id": "kwU0AMctZOOb",
        "outputId": "e5e4a4b8-8755-4fd5-81fb-bce7046da9f1"
      },
      "outputs": [
        {
          "data": {
            "text/html": [
              "<div>\n",
              "<style scoped>\n",
              "    .dataframe tbody tr th:only-of-type {\n",
              "        vertical-align: middle;\n",
              "    }\n",
              "\n",
              "    .dataframe tbody tr th {\n",
              "        vertical-align: top;\n",
              "    }\n",
              "\n",
              "    .dataframe thead th {\n",
              "        text-align: right;\n",
              "    }\n",
              "</style>\n",
              "<table border=\"1\" class=\"dataframe\">\n",
              "  <thead>\n",
              "    <tr style=\"text-align: right;\">\n",
              "      <th></th>\n",
              "      <th>token</th>\n",
              "      <th>tag</th>\n",
              "    </tr>\n",
              "  </thead>\n",
              "  <tbody>\n",
              "    <tr>\n",
              "      <th>0</th>\n",
              "      <td>เลอโนโวเปิดตัวผลิตภัณฑ์ใหม่ล่าสุดของไลน์อัพ</td>\n",
              "      <td>ADDR</td>\n",
              "    </tr>\n",
              "    <tr>\n",
              "      <th>1</th>\n",
              "      <td>Lenovo</td>\n",
              "      <td>ADDR</td>\n",
              "    </tr>\n",
              "    <tr>\n",
              "      <th>2</th>\n",
              "      <td>Yogaและ</td>\n",
              "      <td>ADDR</td>\n",
              "    </tr>\n",
              "    <tr>\n",
              "      <th>3</th>\n",
              "      <td>Lenovo</td>\n",
              "      <td>ADDR</td>\n",
              "    </tr>\n",
              "    <tr>\n",
              "      <th>4</th>\n",
              "      <td>IdeaPadผ่านการออกแบบเพื่อเพิ่มประสิทธิภาพการทำ...</td>\n",
              "      <td>ADDR</td>\n",
              "    </tr>\n",
              "    <tr>\n",
              "      <th>...</th>\n",
              "      <td>...</td>\n",
              "      <td>...</td>\n",
              "    </tr>\n",
              "    <tr>\n",
              "      <th>14603</th>\n",
              "      <td>การคัดกรองประวัติ</td>\n",
              "      <td>ADDR</td>\n",
              "    </tr>\n",
              "    <tr>\n",
              "      <th>14604</th>\n",
              "      <td>การสอบข้อเขียน</td>\n",
              "      <td>ADDR</td>\n",
              "    </tr>\n",
              "    <tr>\n",
              "      <th>14605</th>\n",
              "      <td>การสัมภาษณ์</td>\n",
              "      <td>ADDR</td>\n",
              "    </tr>\n",
              "    <tr>\n",
              "      <th>14606</th>\n",
              "      <td>ฯลฯที่มา:</td>\n",
              "      <td>ADDR</td>\n",
              "    </tr>\n",
              "    <tr>\n",
              "      <th>14607</th>\n",
              "      <td>ettoday</td>\n",
              "      <td>O</td>\n",
              "    </tr>\n",
              "  </tbody>\n",
              "</table>\n",
              "<p>14608 rows × 2 columns</p>\n",
              "</div>"
            ],
            "text/plain": [
              "                                                   token   tag\n",
              "0            เลอโนโวเปิดตัวผลิตภัณฑ์ใหม่ล่าสุดของไลน์อัพ  ADDR\n",
              "1                                                 Lenovo  ADDR\n",
              "2                                                Yogaและ  ADDR\n",
              "3                                                 Lenovo  ADDR\n",
              "4      IdeaPadผ่านการออกแบบเพื่อเพิ่มประสิทธิภาพการทำ...  ADDR\n",
              "...                                                  ...   ...\n",
              "14603                                  การคัดกรองประวัติ  ADDR\n",
              "14604                                     การสอบข้อเขียน  ADDR\n",
              "14605                                        การสัมภาษณ์  ADDR\n",
              "14606                                          ฯลฯที่มา:  ADDR\n",
              "14607                                            ettoday     O\n",
              "\n",
              "[14608 rows x 2 columns]"
            ]
          },
          "metadata": {},
          "output_type": "display_data"
        }
      ],
      "source": [
        "result_table = pd.DataFrame({'token': cont,\n",
        "                             'tag': result})\n",
        "display(result_table)"
      ]
    },
    {
      "cell_type": "code",
      "execution_count": 54,
      "metadata": {},
      "outputs": [],
      "source": [
        "tag_counts = result_table['tag'].value_counts().reset_index()"
      ]
    }
  ],
  "metadata": {
    "colab": {
      "provenance": []
    },
    "kernelspec": {
      "display_name": "Python 3",
      "name": "python3"
    },
    "language_info": {
      "codemirror_mode": {
        "name": "ipython",
        "version": 3
      },
      "file_extension": ".py",
      "mimetype": "text/x-python",
      "name": "python",
      "nbconvert_exporter": "python",
      "pygments_lexer": "ipython3",
      "version": "3.12.7"
    }
  },
  "nbformat": 4,
  "nbformat_minor": 0
}
